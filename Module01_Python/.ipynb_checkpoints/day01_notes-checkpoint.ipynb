{
 "cells": [
  {
   "cell_type": "markdown",
   "metadata": {},
   "source": [
    "# Python Day 2 \n",
    "\n",
    "## Goals for Today\n",
    "\n",
    "There are three main goals for today's lecture:\n",
    "\n",
    "1. Getting comfortable with making, manipulating, and visualizing NumPy arrays and Pandas data frames.\n",
    "    - Basic linear algebra operations\n",
    "2. Building the habit of searching for and reading [code documentation](https://numpy.org/doc/stable/reference/).\n",
    "3. Breaking down complex programming challenges step-by-step and using pseudo-code.\n",
    "    - Clean data\n",
    "    - Characterize data\n",
    "    - Plot result\n",
    "    - Test significance of result"
   ]
  },
  {
   "cell_type": "markdown",
   "metadata": {},
   "source": [
    "## Section 1: Importing Libraries\n",
    "If vanilla python seems rather lackluster, that's because it is. Fortunately, the python scientific stack adds a broad and powerful array of python packages to fill in the gaps. Once installed, python packages are easily loaded in for use."
   ]
  },
  {
   "cell_type": "code",
   "execution_count": 1,
   "metadata": {},
   "outputs": [
    {
     "name": "stdout",
     "output_type": "stream",
     "text": [
      "1.17.4\n"
     ]
    }
   ],
   "source": [
    "import numpy as np\n",
    "print(np.__version__)"
   ]
  },
  {
   "cell_type": "markdown",
   "metadata": {},
   "source": [
    "Commands from packages are like attributes of objects. Many libraries also have submodules, or clusters of related functions."
   ]
  },
  {
   "cell_type": "code",
   "execution_count": null,
   "metadata": {},
   "outputs": [],
   "source": [
    "np.linalg\n",
    "np.random"
   ]
  },
  {
   "cell_type": "markdown",
   "metadata": {},
   "source": [
    "## Section 2: NumPy Array Basics\n",
    "\n",
    "NumPy arrays have many built-in attributes that make them very convenient to use."
   ]
  },
  {
   "cell_type": "code",
   "execution_count": 2,
   "metadata": {},
   "outputs": [],
   "source": [
    "np.random.seed(47404)\n",
    "\n",
    "## Generate arbitrary array.\n",
    "x = np.random.randint(0,9,(3,3,2))"
   ]
  },
  {
   "cell_type": "markdown",
   "metadata": {},
   "source": [
    "With ipython environments, if you cannot remember the functions available you can make use of **tab-complete**."
   ]
  },
  {
   "cell_type": "code",
   "execution_count": 3,
   "metadata": {},
   "outputs": [
    {
     "data": {
      "text/plain": [
       "array([[[0, 2],\n",
       "        [0, 2],\n",
       "        [4, 3]],\n",
       "\n",
       "       [[4, 6],\n",
       "        [5, 2],\n",
       "        [8, 3]],\n",
       "\n",
       "       [[6, 8],\n",
       "        [7, 1],\n",
       "        [0, 3]]])"
      ]
     },
     "execution_count": 3,
     "metadata": {},
     "output_type": "execute_result"
    }
   ],
   "source": [
    "## Try out tab-complete.\n",
    "x"
   ]
  },
  {
   "cell_type": "markdown",
   "metadata": {},
   "source": [
    "The following attributes help you keep track of the most important pieces of metadata."
   ]
  },
  {
   "cell_type": "code",
   "execution_count": 4,
   "metadata": {},
   "outputs": [
    {
     "name": "stdout",
     "output_type": "stream",
     "text": [
      "(3, 3, 2)\n",
      "3\n",
      "18\n",
      "int64\n"
     ]
    }
   ],
   "source": [
    "print(x.shape)    # shape: dimensions of array\n",
    "print(x.ndim)     # ndim:  number of dimensions of array\n",
    "print(x.size)     # size:  number of elements in array\n",
    "print(x.dtype)    # dtype: data type of elements"
   ]
  },
  {
   "cell_type": "markdown",
   "metadata": {},
   "source": [
    "Changing the dtype of an array is easy!"
   ]
  },
  {
   "cell_type": "code",
   "execution_count": 5,
   "metadata": {},
   "outputs": [],
   "source": [
    "x.astype(int);         # change to int\n",
    "x.astype(str);         # change to string\n",
    "x.astype(float);       # change to float (default)\n",
    "x.astype(np.float16);  # change to float16"
   ]
  },
  {
   "cell_type": "markdown",
   "metadata": {},
   "source": [
    "Many useful functions are built-in to NumPy arrays."
   ]
  },
  {
   "cell_type": "code",
   "execution_count": 6,
   "metadata": {},
   "outputs": [
    {
     "name": "stdout",
     "output_type": "stream",
     "text": [
      "Min: 0\n",
      "Max: 8\n",
      "Sum: 64\n",
      "Mean: 3.5555555555555554\n"
     ]
    }
   ],
   "source": [
    "print('Min:', x.min())      # Get max of array.\n",
    "print('Max:', x.max())      # Get min of array.\n",
    "print('Sum:', x.sum())      # Get sum of array.\n",
    "print('Mean:',x.mean())     # Get mean of array."
   ]
  },
  {
   "cell_type": "markdown",
   "metadata": {},
   "source": [
    "One of the most crucial functions is `copy`."
   ]
  },
  {
   "cell_type": "code",
   "execution_count": 7,
   "metadata": {},
   "outputs": [
    {
     "data": {
      "text/plain": [
       "array([[[0, 2],\n",
       "        [0, 2],\n",
       "        [4, 3]],\n",
       "\n",
       "       [[4, 6],\n",
       "        [5, 2],\n",
       "        [8, 3]],\n",
       "\n",
       "       [[6, 8],\n",
       "        [7, 1],\n",
       "        [0, 3]]])"
      ]
     },
     "execution_count": 7,
     "metadata": {},
     "output_type": "execute_result"
    }
   ],
   "source": [
    "y = x.copy()\n",
    "x[:] = 0\n",
    "y"
   ]
  },
  {
   "cell_type": "markdown",
   "metadata": {},
   "source": [
    "### Mini-exercise\n",
    "\n",
    "a) Look up `np.linspace`. How does it differ from `np.arange`? "
   ]
  },
  {
   "cell_type": "code",
   "execution_count": null,
   "metadata": {},
   "outputs": [],
   "source": []
  },
  {
   "cell_type": "markdown",
   "metadata": {},
   "source": [
    "b) Using `np.linspace`, make an evenly-spaced array, 21 elements long, spanning from -1 to 1. Confirm it's length = 21."
   ]
  },
  {
   "cell_type": "code",
   "execution_count": null,
   "metadata": {},
   "outputs": [],
   "source": []
  },
  {
   "cell_type": "markdown",
   "metadata": {},
   "source": [
    "c) Compute the standard deviation of the array. (Hint: this is a built-in attribute.)"
   ]
  },
  {
   "cell_type": "code",
   "execution_count": null,
   "metadata": {},
   "outputs": [],
   "source": []
  },
  {
   "cell_type": "markdown",
   "metadata": {},
   "source": [
    "d) Compute the 40% percentile of the array."
   ]
  },
  {
   "cell_type": "code",
   "execution_count": 2,
   "metadata": {},
   "outputs": [],
   "source": []
  },
  {
   "cell_type": "markdown",
   "metadata": {},
   "source": [
    "e) Convert the elements to type `int`. What happens?"
   ]
  },
  {
   "cell_type": "code",
   "execution_count": null,
   "metadata": {},
   "outputs": [],
   "source": []
  },
  {
   "cell_type": "markdown",
   "metadata": {},
   "source": [
    "## Section 3: Axis Operations\n",
    "\n",
    "### Built-in operations"
   ]
  },
  {
   "cell_type": "code",
   "execution_count": 8,
   "metadata": {},
   "outputs": [
    {
     "name": "stdout",
     "output_type": "stream",
     "text": [
      "[[0.   0.33 0.67 1.  ]\n",
      " [1.33 1.67 2.   2.33]\n",
      " [2.67 3.   3.33 3.67]\n",
      " [4.   4.33 4.67 5.  ]]\n"
     ]
    }
   ],
   "source": [
    "np.random.seed(47404)\n",
    "\n",
    "## Generate arbitrary matrix.\n",
    "X = np.linspace(0,5,16).reshape(4,4).round(2)\n",
    "print(X)"
   ]
  },
  {
   "cell_type": "markdown",
   "metadata": {},
   "source": [
    "Unless otherwise specified, built-in operations will be applied element-wise (e.g. round) or across the entire array."
   ]
  },
  {
   "cell_type": "code",
   "execution_count": 9,
   "metadata": {},
   "outputs": [
    {
     "name": "stdout",
     "output_type": "stream",
     "text": [
      "40.0\n"
     ]
    }
   ],
   "source": [
    "print( X.sum() )"
   ]
  },
  {
   "cell_type": "markdown",
   "metadata": {},
   "source": [
    "However, we can modify along which dimension an operation is applied using the `axis` flag. Below we sum across the first dimension."
   ]
  },
  {
   "cell_type": "code",
   "execution_count": 10,
   "metadata": {},
   "outputs": [
    {
     "name": "stdout",
     "output_type": "stream",
     "text": [
      "[ 8.    9.33 10.67 12.  ]\n"
     ]
    }
   ],
   "source": [
    "## Sum across the first axis.\n",
    "print( X.sum(axis=0) )"
   ]
  },
  {
   "cell_type": "markdown",
   "metadata": {},
   "source": [
    "Now we sum across the second dimension."
   ]
  },
  {
   "cell_type": "code",
   "execution_count": 11,
   "metadata": {},
   "outputs": [
    {
     "name": "stdout",
     "output_type": "stream",
     "text": [
      "[ 2.    7.33 12.67 18.  ]\n"
     ]
    }
   ],
   "source": [
    "## Sum across the second axis.\n",
    "print( X.sum(axis=1) )"
   ]
  },
  {
   "cell_type": "markdown",
   "metadata": {},
   "source": [
    "## Section 4: Manipulating Arrays \n",
    "\n",
    "### Shaping Arrays"
   ]
  },
  {
   "cell_type": "markdown",
   "metadata": {},
   "source": [
    "Importantly, all NumPy arrays and matrices have a `reshape` attribute allowing for transforming matrices into different dimensions."
   ]
  },
  {
   "cell_type": "code",
   "execution_count": 16,
   "metadata": {},
   "outputs": [],
   "source": [
    "## Make new array.\n",
    "x = np.arange(24)\n",
    "\n",
    "## Reshape array.\n",
    "X = x.reshape(24,1);      # col vector\n",
    "X = x.reshape(1,24);      # row vector\n",
    "X = x.reshape(6,4);       # 2d array\n",
    "X = x.reshape(4,3,2);     # 3d array"
   ]
  },
  {
   "cell_type": "markdown",
   "metadata": {},
   "source": [
    "One nice feature of NumPy is that it allows for intelligent reshaping. If you specify `-1`, it will determine the size of a remaining dimension based on all others."
   ]
  },
  {
   "cell_type": "code",
   "execution_count": 17,
   "metadata": {},
   "outputs": [
    {
     "name": "stdout",
     "output_type": "stream",
     "text": [
      "(3, 4, 2)\n"
     ]
    }
   ],
   "source": [
    "X = x.reshape(3,-1,2)\n",
    "print(X.shape)"
   ]
  },
  {
   "cell_type": "markdown",
   "metadata": {},
   "source": [
    "In addition to `reshape`, there are a handful of other functions available for manipulating the dimensions of an array.\n",
    "\n",
    "Transpose, `T`, will flip a matrix along its diagonal "
   ]
  },
  {
   "cell_type": "code",
   "execution_count": 18,
   "metadata": {},
   "outputs": [
    {
     "name": "stdout",
     "output_type": "stream",
     "text": [
      "(3, 4, 2)\n",
      "(2, 4, 3)\n"
     ]
    }
   ],
   "source": [
    "print(X.shape)\n",
    "print(X.T.shape)"
   ]
  },
  {
   "cell_type": "markdown",
   "metadata": {},
   "source": [
    "`swapaxes` allows you to reorder two axes of an array."
   ]
  },
  {
   "cell_type": "code",
   "execution_count": 19,
   "metadata": {},
   "outputs": [
    {
     "name": "stdout",
     "output_type": "stream",
     "text": [
      "(3, 4, 2)\n",
      "(4, 3, 2)\n"
     ]
    }
   ],
   "source": [
    "print(X.shape)\n",
    "print(X.swapaxes(0,1).shape)"
   ]
  },
  {
   "cell_type": "markdown",
   "metadata": {},
   "source": [
    "`rollaxis` allows you to shift all axes of an array. "
   ]
  },
  {
   "cell_type": "code",
   "execution_count": 20,
   "metadata": {},
   "outputs": [
    {
     "data": {
      "text/plain": [
       "(4, 3, 2)"
      ]
     },
     "execution_count": 20,
     "metadata": {},
     "output_type": "execute_result"
    }
   ],
   "source": [
    "np.rollaxis(X,1).shape"
   ]
  },
  {
   "cell_type": "markdown",
   "metadata": {},
   "source": [
    "`flatten` allows you to compress an N-d array to a 1-d array."
   ]
  },
  {
   "cell_type": "code",
   "execution_count": 21,
   "metadata": {},
   "outputs": [
    {
     "data": {
      "text/plain": [
       "(24,)"
      ]
     },
     "execution_count": 21,
     "metadata": {},
     "output_type": "execute_result"
    }
   ],
   "source": [
    "X.flatten().shape"
   ]
  },
  {
   "cell_type": "markdown",
   "metadata": {},
   "source": [
    "### Joining Arrays"
   ]
  },
  {
   "cell_type": "markdown",
   "metadata": {},
   "source": [
    "Assuming they have similar shapes & dtypes, NumPy arrays are easily joined. In general, the syntax is to pass a list of arrays to a joining function. "
   ]
  },
  {
   "cell_type": "code",
   "execution_count": 22,
   "metadata": {},
   "outputs": [
    {
     "name": "stdout",
     "output_type": "stream",
     "text": [
      "[[0 1]\n",
      " [2 3]\n",
      " [4 5]\n",
      " [6 7]\n",
      " [8 9]]\n"
     ]
    }
   ],
   "source": [
    "## Initialize array.\n",
    "x = np.arange(10).reshape(5,2)\n",
    "print(x)"
   ]
  },
  {
   "cell_type": "markdown",
   "metadata": {},
   "source": [
    "The simplest (silliest) merging approach is to use `np.array` to concatenate two arrays along the first axis. "
   ]
  },
  {
   "cell_type": "code",
   "execution_count": 23,
   "metadata": {},
   "outputs": [
    {
     "name": "stdout",
     "output_type": "stream",
     "text": [
      "[[[0 1]\n",
      "  [2 3]\n",
      "  [4 5]\n",
      "  [6 7]\n",
      "  [8 9]]\n",
      "\n",
      " [[0 1]\n",
      "  [2 3]\n",
      "  [4 5]\n",
      "  [6 7]\n",
      "  [8 9]]]\n",
      "shape: (2, 5, 2)\n"
     ]
    }
   ],
   "source": [
    "## Join arrays.\n",
    "X = np.array([x,x])\n",
    "print(X)\n",
    "print('shape:', X.shape)"
   ]
  },
  {
   "cell_type": "markdown",
   "metadata": {},
   "source": [
    "There are other joining functions, differing in how (along which axis) they merge two arrays. Some examples are below:"
   ]
  },
  {
   "cell_type": "code",
   "execution_count": 24,
   "metadata": {},
   "outputs": [
    {
     "name": "stdout",
     "output_type": "stream",
     "text": [
      "[[0 1]\n",
      " [2 3]\n",
      " [4 5]\n",
      " [6 7]\n",
      " [8 9]\n",
      " [0 1]\n",
      " [2 3]\n",
      " [4 5]\n",
      " [6 7]\n",
      " [8 9]]\n",
      "shape: (10, 2)\n"
     ]
    }
   ],
   "source": [
    "## Join along first axis.\n",
    "X = np.concatenate([x,x])\n",
    "print(X)\n",
    "print('shape:', X.shape)"
   ]
  },
  {
   "cell_type": "code",
   "execution_count": 25,
   "metadata": {},
   "outputs": [
    {
     "name": "stdout",
     "output_type": "stream",
     "text": [
      "[[0 1]\n",
      " [2 3]\n",
      " [4 5]\n",
      " [6 7]\n",
      " [8 9]\n",
      " [0 1]\n",
      " [2 3]\n",
      " [4 5]\n",
      " [6 7]\n",
      " [8 9]]\n",
      "shape: (10, 2)\n"
     ]
    }
   ],
   "source": [
    "## Join along rows (same as vstack).\n",
    "X = np.row_stack([x,x])\n",
    "print(X)\n",
    "print('shape:', X.shape)"
   ]
  },
  {
   "cell_type": "code",
   "execution_count": 26,
   "metadata": {},
   "outputs": [
    {
     "name": "stdout",
     "output_type": "stream",
     "text": [
      "[[0 1 0 1]\n",
      " [2 3 2 3]\n",
      " [4 5 4 5]\n",
      " [6 7 6 7]\n",
      " [8 9 8 9]]\n",
      "shape: (5, 4)\n"
     ]
    }
   ],
   "source": [
    "## Join along columns (same as hstack).\n",
    "X = np.column_stack([x,x])\n",
    "print(X)\n",
    "print('shape:', X.shape)"
   ]
  },
  {
   "cell_type": "code",
   "execution_count": 27,
   "metadata": {},
   "outputs": [
    {
     "name": "stdout",
     "output_type": "stream",
     "text": [
      "[[0 1]\n",
      " [2 3]\n",
      " [4 5]\n",
      " [6 7]\n",
      " [8 9]\n",
      " [0 1]\n",
      " [2 3]\n",
      " [4 5]\n",
      " [6 7]\n",
      " [8 9]]\n",
      "shape: (10, 2)\n"
     ]
    }
   ],
   "source": [
    "## Join along specified axis.\n",
    "X = np.concatenate([x,x], axis=0)\n",
    "print(X)\n",
    "print('shape:', X.shape)"
   ]
  },
  {
   "cell_type": "code",
   "execution_count": 28,
   "metadata": {},
   "outputs": [
    {
     "name": "stdout",
     "output_type": "stream",
     "text": [
      "[[[0 1]\n",
      "  [2 3]\n",
      "  [4 5]\n",
      "  [6 7]\n",
      "  [8 9]]\n",
      "\n",
      " [[0 1]\n",
      "  [2 3]\n",
      "  [4 5]\n",
      "  [6 7]\n",
      "  [8 9]]]\n",
      "shape: (2, 5, 2)\n"
     ]
    }
   ],
   "source": [
    "## Join along new axis.\n",
    "X = np.stack([x,x], axis=0)\n",
    "print(X)\n",
    "print('shape:', X.shape)"
   ]
  },
  {
   "cell_type": "markdown",
   "metadata": {},
   "source": [
    "### Mini-exercise"
   ]
  },
  {
   "cell_type": "markdown",
   "metadata": {},
   "source": [
    "a) Using a `np.random` function of your choice, make a new array *A* of shape [2,7,4]. Then complete the following steps:\n",
    "- Make a copy of *A*. Store the copy in a new variable *B*.\n",
    "- Swap the first and third axes of *B*.\n",
    "- Flatten *B* into a 1-d array.\n",
    "- Reshape *B* back into the original dimensions of *A*.\n",
    "\n",
    "Now compare A and B. Are they in the same order? "
   ]
  },
  {
   "cell_type": "code",
   "execution_count": null,
   "metadata": {},
   "outputs": [],
   "source": []
  },
  {
   "cell_type": "markdown",
   "metadata": {},
   "source": [
    "b) Beginning below with *x*, a random [4,1] array, use various joining functions above until you have *X*, a new matrix of shape [12,3]. The order of the elements of *X* don't matter."
   ]
  },
  {
   "cell_type": "code",
   "execution_count": null,
   "metadata": {},
   "outputs": [],
   "source": [
    "x = np.random.uniform(size=(4,1))"
   ]
  },
  {
   "cell_type": "markdown",
   "metadata": {},
   "source": [
    "c) *Y* is a new random variable of shape [1,12,7,3]. Reshape *Y* until you can subtract *X* from it. In other words, reshape this new variable until you can execute: ```Y - X```."
   ]
  },
  {
   "cell_type": "code",
   "execution_count": null,
   "metadata": {},
   "outputs": [],
   "source": [
    "Y = np.random.normal(size=(1,12,7,3))"
   ]
  },
  {
   "cell_type": "markdown",
   "metadata": {},
   "source": [
    "## Section 5: Indexing, Masking, and Assignments"
   ]
  },
  {
   "cell_type": "markdown",
   "metadata": {},
   "source": [
    "NumPy supports a great many ways of indexing."
   ]
  },
  {
   "cell_type": "code",
   "execution_count": 29,
   "metadata": {},
   "outputs": [
    {
     "name": "stdout",
     "output_type": "stream",
     "text": [
      "[[9 0 2 0 2 4]\n",
      " [3 4 6 5 2 9]\n",
      " [8 3 9 6 8 7]\n",
      " [1 0 3 3 6 7]\n",
      " [1 3 3 3 8 3]\n",
      " [5 1 7 0 7 0]]\n"
     ]
    }
   ],
   "source": [
    "np.random.seed(47404)\n",
    "\n",
    "## Construct an arbitrary matrix.\n",
    "X = np.random.randint(0, 10, (6,6))\n",
    "print(X)"
   ]
  },
  {
   "cell_type": "code",
   "execution_count": 30,
   "metadata": {},
   "outputs": [
    {
     "data": {
      "text/plain": [
       "array([[9, 0, 2, 0, 2, 4]])"
      ]
     },
     "execution_count": 30,
     "metadata": {},
     "output_type": "execute_result"
    }
   ],
   "source": [
    "## Access particular rows.\n",
    "X[:1]"
   ]
  },
  {
   "cell_type": "code",
   "execution_count": 31,
   "metadata": {},
   "outputs": [
    {
     "data": {
      "text/plain": [
       "array([[9, 0, 2, 0, 2],\n",
       "       [3, 4, 6, 5, 2],\n",
       "       [8, 3, 9, 6, 8],\n",
       "       [1, 0, 3, 3, 6],\n",
       "       [1, 3, 3, 3, 8],\n",
       "       [5, 1, 7, 0, 7]])"
      ]
     },
     "execution_count": 31,
     "metadata": {},
     "output_type": "execute_result"
    }
   ],
   "source": [
    "## Access particular columns.\n",
    "X[:,:5]"
   ]
  },
  {
   "cell_type": "code",
   "execution_count": 32,
   "metadata": {},
   "outputs": [
    {
     "data": {
      "text/plain": [
       "array([[4],\n",
       "       [9],\n",
       "       [7],\n",
       "       [7],\n",
       "       [3]])"
      ]
     },
     "execution_count": 32,
     "metadata": {},
     "output_type": "execute_result"
    }
   ],
   "source": [
    "## Access particular rows/columns.\n",
    "X[:5,5:]"
   ]
  },
  {
   "cell_type": "code",
   "execution_count": 33,
   "metadata": {},
   "outputs": [
    {
     "data": {
      "text/plain": [
       "array([9, 0, 7])"
      ]
     },
     "execution_count": 33,
     "metadata": {},
     "output_type": "execute_result"
    }
   ],
   "source": [
    "## Access using lists of indexes.\n",
    "X[[1,3,5],[5,1,2]]"
   ]
  },
  {
   "cell_type": "markdown",
   "metadata": {},
   "source": [
    "Far more useful is indexing with boolean arrays."
   ]
  },
  {
   "cell_type": "code",
   "execution_count": 34,
   "metadata": {},
   "outputs": [
    {
     "data": {
      "text/plain": [
       "array([9, 6, 9, 8, 9, 6, 8, 7, 6, 7, 8, 7, 7])"
      ]
     },
     "execution_count": 34,
     "metadata": {},
     "output_type": "execute_result"
    }
   ],
   "source": [
    "## Return all elements of matrix that meet criterion.\n",
    "X[X > 5]"
   ]
  },
  {
   "cell_type": "code",
   "execution_count": 35,
   "metadata": {},
   "outputs": [
    {
     "data": {
      "text/plain": [
       "array([[1, 0, 3, 3, 6, 7],\n",
       "       [1, 3, 3, 3, 8, 3]])"
      ]
     },
     "execution_count": 35,
     "metadata": {},
     "output_type": "execute_result"
    }
   ],
   "source": [
    "## Return all rows that begin with particular integer.\n",
    "X[X[:,0] == 1]"
   ]
  },
  {
   "cell_type": "code",
   "execution_count": 36,
   "metadata": {},
   "outputs": [
    {
     "data": {
      "text/plain": [
       "array([[9, 2, 2, 4],\n",
       "       [3, 6, 2, 9],\n",
       "       [8, 9, 8, 7],\n",
       "       [1, 3, 6, 7],\n",
       "       [1, 3, 8, 3],\n",
       "       [5, 7, 7, 0]])"
      ]
     },
     "execution_count": 36,
     "metadata": {},
     "output_type": "execute_result"
    }
   ],
   "source": [
    "## Return all columns whose sum is greater than 40.\n",
    "X[:,X.sum(axis=0) > 20]"
   ]
  },
  {
   "cell_type": "markdown",
   "metadata": {},
   "source": [
    "For larger matrices, we can use the ellipsis as a shorthand."
   ]
  },
  {
   "cell_type": "code",
   "execution_count": 37,
   "metadata": {},
   "outputs": [
    {
     "data": {
      "text/plain": [
       "array([[8, 1, 1, 7, 5],\n",
       "       [0, 0, 6, 2, 6],\n",
       "       [1, 0, 2, 2, 0],\n",
       "       [3, 8, 8, 1, 5],\n",
       "       [0, 0, 1, 6, 8]])"
      ]
     },
     "execution_count": 37,
     "metadata": {},
     "output_type": "execute_result"
    }
   ],
   "source": [
    "Y = np.random.randint(0,9,(5,5,5,5))\n",
    "Y[0,...,-1]"
   ]
  },
  {
   "cell_type": "markdown",
   "metadata": {},
   "source": [
    "We can update NumPy arrays in place."
   ]
  },
  {
   "cell_type": "code",
   "execution_count": 38,
   "metadata": {},
   "outputs": [
    {
     "name": "stdout",
     "output_type": "stream",
     "text": [
      "[[55  0  2  0  2  4]\n",
      " [ 3  4  6  5  2  9]\n",
      " [ 8  3  9  6  8  7]\n",
      " [ 1  0  3  3  6  7]\n",
      " [ 1  3  3  3  8  3]\n",
      " [ 5  1  7  0  7  0]]\n"
     ]
    }
   ],
   "source": [
    "## Update first element.\n",
    "X[0,0] = 55\n",
    "print(X)"
   ]
  },
  {
   "cell_type": "code",
   "execution_count": 39,
   "metadata": {},
   "outputs": [
    {
     "name": "stdout",
     "output_type": "stream",
     "text": [
      "[[55  0  2  0  2  4]\n",
      " [ 3  4  6  5  2  9]\n",
      " [ 8  3  9  6  8  7]\n",
      " [66 66 66 66 66 66]\n",
      " [ 1  3  3  3  8  3]\n",
      " [ 5  1  7  0  7  0]]\n"
     ]
    }
   ],
   "source": [
    "## Update full row.\n",
    "X[3,:] = 66\n",
    "print(X)"
   ]
  },
  {
   "cell_type": "code",
   "execution_count": 40,
   "metadata": {},
   "outputs": [
    {
     "name": "stdout",
     "output_type": "stream",
     "text": [
      "[[55  0  2  0 77 77]\n",
      " [ 3  4  6  5 77 77]\n",
      " [ 8  3  9  6 77 77]\n",
      " [66 66 66 66 77 77]\n",
      " [ 1  3  3  3 77 77]\n",
      " [ 5  1  7  0 77 77]]\n"
     ]
    }
   ],
   "source": [
    "## Update multiple columns.\n",
    "X[:,-2:] = 77\n",
    "print(X)"
   ]
  },
  {
   "cell_type": "markdown",
   "metadata": {},
   "source": [
    "This also allows for convenient masking."
   ]
  },
  {
   "cell_type": "code",
   "execution_count": 41,
   "metadata": {},
   "outputs": [
    {
     "name": "stdout",
     "output_type": "stream",
     "text": [
      "[[55  0  2  0 77 77]\n",
      " [ 3  4  6 88 77 77]\n",
      " [ 8  3  9  6 77 77]\n",
      " [66 66 66 66 77 77]\n",
      " [ 1  3  3  3 77 77]\n",
      " [88  1  7  0 77 77]]\n"
     ]
    }
   ],
   "source": [
    "X[X==5] = 88\n",
    "print(X)"
   ]
  },
  {
   "cell_type": "markdown",
   "metadata": {},
   "source": [
    "For a complete list of convenient routines, see the [NumPy indexing documentation](https://docs.scipy.org/doc/numpy/user/basics.indexing.html#).\n",
    "\n",
    "`np.where` will also return indices"
   ]
  },
  {
   "cell_type": "code",
   "execution_count": 42,
   "metadata": {},
   "outputs": [
    {
     "name": "stdout",
     "output_type": "stream",
     "text": [
      "[[9 0 2]\n",
      " [0 2 4]\n",
      " [3 4 6]\n",
      " [5 2 9]\n",
      " [8 3 9]]\n",
      "(array([0, 2, 3, 4, 4]), array([0, 2, 2, 0, 2]))\n"
     ]
    }
   ],
   "source": [
    "np.random.seed(47404)\n",
    "\n",
    "## Construct an arbitrary array.\n",
    "X = np.random.randint(0, 10, (5,3))\n",
    "\n",
    "print(X)\n",
    "print(np.where(X > 5))"
   ]
  },
  {
   "cell_type": "markdown",
   "metadata": {},
   "source": [
    "What if we want to find elements that match multiple criteria?\n",
    "\n",
    "The `logical_and` function allows us to find elements where two conditions are met."
   ]
  },
  {
   "cell_type": "code",
   "execution_count": 43,
   "metadata": {},
   "outputs": [
    {
     "data": {
      "text/plain": [
       "array([[ True, False, False],\n",
       "       [False, False, False],\n",
       "       [False, False, False],\n",
       "       [False, False,  True],\n",
       "       [False, False,  True]])"
      ]
     },
     "execution_count": 43,
     "metadata": {},
     "output_type": "execute_result"
    }
   ],
   "source": [
    "np.logical_and(X > 5, X % 2)"
   ]
  },
  {
   "cell_type": "markdown",
   "metadata": {},
   "source": [
    "The syntax for two or more conjuctive arguments is:"
   ]
  },
  {
   "cell_type": "code",
   "execution_count": 44,
   "metadata": {},
   "outputs": [
    {
     "data": {
      "text/plain": [
       "array([[0, 0, 0],\n",
       "       [0, 0, 0],\n",
       "       [0, 0, 1],\n",
       "       [0, 0, 0],\n",
       "       [1, 0, 0]])"
      ]
     },
     "execution_count": 44,
     "metadata": {},
     "output_type": "execute_result"
    }
   ],
   "source": [
    "(X > 5) & (X % 5)"
   ]
  },
  {
   "cell_type": "markdown",
   "metadata": {},
   "source": [
    "Similarly, `logical_or` allows us to find elements where one of two conditions are met."
   ]
  },
  {
   "cell_type": "code",
   "execution_count": 45,
   "metadata": {},
   "outputs": [
    {
     "data": {
      "text/plain": [
       "array([9, 0, 0, 9, 9])"
      ]
     },
     "execution_count": 45,
     "metadata": {},
     "output_type": "execute_result"
    }
   ],
   "source": [
    "X[np.logical_or(X < 2, X > 8)]"
   ]
  },
  {
   "cell_type": "markdown",
   "metadata": {},
   "source": [
    "The syntax for two or more disjunctive arguments is:"
   ]
  },
  {
   "cell_type": "code",
   "execution_count": 46,
   "metadata": {},
   "outputs": [
    {
     "data": {
      "text/plain": [
       "array([[ True,  True, False],\n",
       "       [ True, False, False],\n",
       "       [False, False, False],\n",
       "       [False, False,  True],\n",
       "       [False, False,  True]])"
      ]
     },
     "execution_count": 46,
     "metadata": {},
     "output_type": "execute_result"
    }
   ],
   "source": [
    "(X < 2) | (X > 8)"
   ]
  },
  {
   "cell_type": "markdown",
   "metadata": {},
   "source": [
    "NumPy includes a number of very helpful functions that allow you to apply a Python function conveniently along parts of an array without Python `for` loops (np.apply_along_axis, np.apply_over_axes). We will illustrate with a simple example of standard-scoring (z-scoring) a matrix.\n",
    "\n",
    "`np.where()` is another function that facilitates masking or selection based on satisfaction of a boolean condition."
   ]
  },
  {
   "cell_type": "code",
   "execution_count": 96,
   "metadata": {},
   "outputs": [
    {
     "name": "stdout",
     "output_type": "stream",
     "text": [
      "[[ 0  1  2  3  4  5]\n",
      " [ 6  7  8  9 10 11]]\n"
     ]
    }
   ],
   "source": [
    "## Define the standard score (z-score) function.\n",
    "def zscore(arr): \n",
    "    return (arr - arr.mean()) / arr.std()\n",
    "\n",
    "## Define a simple matrix.\n",
    "mat = np.arange(12).reshape(2,6)\n",
    "print(mat)"
   ]
  },
  {
   "cell_type": "code",
   "execution_count": 113,
   "metadata": {},
   "outputs": [
    {
     "name": "stdout",
     "output_type": "stream",
     "text": [
      "[[-1.46 -0.88 -0.29  0.29  0.88  1.46]\n",
      " [-1.46 -0.88 -0.29  0.29  0.88  1.46]]\n",
      "[[-1.59325501 -1.30357228 -1.01388955 -0.72420682 -0.43452409 -0.14484136]\n",
      " [ 0.14484136  0.43452409  0.72420682  1.01388955  1.30357228  1.59325501]]\n"
     ]
    }
   ],
   "source": [
    "zmat = np.apply_along_axis(zscore, axis=1, arr=mat).round(2)\n",
    "print(zmat)\n",
    "print(zscore(mat))"
   ]
  },
  {
   "cell_type": "code",
   "execution_count": null,
   "metadata": {},
   "outputs": [],
   "source": [
    "NumPy includes a number of very helpful functions that allow you to apply a Python function conveniently along parts of an array without Python `for` loops (np.apply_along_axis, np.apply_over_axes). We will illustrate with a simple example of standard-scoring (z-scoring) a matrix.\n",
    "\n",
    "`np.where()` is another function that facilitates masking or selection based on satisfaction of a boolean condition.\n",
    "\n",
    "## Define the standard score (z-score) function.\n",
    "def zscore(arr): \n",
    "    return (arr - arr.mean()) / arr.std()\n",
    "\n",
    "## Define a simple matrix.\n",
    "mat = np.arange(12).reshape(2,6)\n",
    "print(mat)\n",
    "\n",
    "zmat = np.apply_along_axis(zscore, axis=1, arr=mat).round(2)\n",
    "print(zmat)\n",
    "print(zscore(mat))"
   ]
  },
  {
   "cell_type": "markdown",
   "metadata": {},
   "source": [
    "## Section 6: Linear algebra basics in NumPy\n",
    "\n",
    "This section is meant to prepare you for the rest of bootcamp. Here are some basic definitions and pieces of syntax that will form the building blocks for topics to come.\n",
    "\n",
    "The foundation of linear algebra is the **vector**, say vector $x$. That vector can be represented as an array in np."
   ]
  },
  {
   "cell_type": "code",
   "execution_count": 4,
   "metadata": {},
   "outputs": [
    {
     "data": {
      "text/plain": [
       "array([0.38488867, 0.15869883])"
      ]
     },
     "execution_count": 4,
     "metadata": {},
     "output_type": "execute_result"
    }
   ],
   "source": [
    "x=np.random.random(2)\n",
    "x"
   ]
  },
  {
   "cell_type": "markdown",
   "metadata": {},
   "source": [
    "The length of a vector is called its **norm**.\n",
    "\n",
    "Formally (but don't worry about this) a norm is a function p: V → R s.t. V is a Vector Space, with the following properties: \n",
    "- For all a ∈ F and all u, v ∈ V, p(av) = |a| p(v), (positive homogeneity or positive scalability). \n",
    "- p(u + v) ≤ p(u) + p(v) (triangle inequality or subadditivity).\n",
    "- If p(v) = 0 then v is the zero vector (separates points).\n"
   ]
  },
  {
   "cell_type": "code",
   "execution_count": 8,
   "metadata": {},
   "outputs": [
    {
     "data": {
      "text/plain": [
       "0.4163227212416828"
      ]
     },
     "execution_count": 8,
     "metadata": {},
     "output_type": "execute_result"
    }
   ],
   "source": [
    "x_norm=np.linalg.norm(x)\n",
    "x_norm"
   ]
  },
  {
   "cell_type": "markdown",
   "metadata": {},
   "source": [
    "A **unit vector** is a vector with magnitude 1; every vector other than a 0 vector can be scaled to unit length. How so?"
   ]
  },
  {
   "cell_type": "code",
   "execution_count": 10,
   "metadata": {},
   "outputs": [],
   "source": [
    "# find a unit vector in the same direction as x"
   ]
  },
  {
   "cell_type": "code",
   "execution_count": 47,
   "metadata": {},
   "outputs": [],
   "source": [
    "z=np.array([0,10])\n"
   ]
  },
  {
   "cell_type": "markdown",
   "metadata": {},
   "source": [
    "The dot product between vectors $x$ and $z$ is \n",
    "\\begin{align}\n",
    "x \\cdot z &= \\sum_{i=1}^m x_iz_i \\\\\n",
    "\\end{align}"
   ]
  },
  {
   "cell_type": "code",
   "execution_count": 42,
   "metadata": {},
   "outputs": [
    {
     "name": "stdout",
     "output_type": "stream",
     "text": [
      "0.16822068151235273\n",
      "0.16822068151235273\n",
      "0.16822068151235273\n"
     ]
    }
   ],
   "source": [
    "print(x@z) # native syntax\n",
    "print(np.dot(x,z)) # numpy syntax \n",
    "print(sum(x*z)) # confirmation"
   ]
  },
  {
   "cell_type": "markdown",
   "metadata": {},
   "source": [
    "The same operation can be made on **matrices**, where the elements of each row of the first matrix are multiplied by the corresponding column of the second. This operation is only possible when the number of rows in the first is the same as the number of columns in the second matrix. This operation is also known as the **inner product**."
   ]
  },
  {
   "cell_type": "code",
   "execution_count": 33,
   "metadata": {},
   "outputs": [],
   "source": [
    "x_stacked=np.stack([x]*3)\n",
    "z_stacked=np.stack([z]*4)"
   ]
  },
  {
   "cell_type": "code",
   "execution_count": 36,
   "metadata": {},
   "outputs": [
    {
     "data": {
      "text/plain": [
       "(array([[0.29625113, 0.28383916],\n",
       "        [0.29625113, 0.28383916],\n",
       "        [0.29625113, 0.28383916]]),\n",
       " array([[0.54964797, 0.01897854],\n",
       "        [0.54964797, 0.01897854],\n",
       "        [0.54964797, 0.01897854],\n",
       "        [0.54964797, 0.01897854]]))"
      ]
     },
     "execution_count": 36,
     "metadata": {},
     "output_type": "execute_result"
    }
   ],
   "source": [
    "x_stacked, z_stacked"
   ]
  },
  {
   "cell_type": "markdown",
   "metadata": {},
   "source": [
    "Which dimensions of x_stacked and z_stacked agree? We can rotate one of them so that the number of rows agrees with the number of colmns of the other. The rotation is known as the **transpose**, where the matrix is flipped over its diagonals (columns become rows, rows become columns)."
   ]
  },
  {
   "cell_type": "code",
   "execution_count": 43,
   "metadata": {},
   "outputs": [
    {
     "data": {
      "text/plain": [
       "array([[0.29625113, 0.29625113, 0.29625113],\n",
       "       [0.28383916, 0.28383916, 0.28383916]])"
      ]
     },
     "execution_count": 43,
     "metadata": {},
     "output_type": "execute_result"
    }
   ],
   "source": [
    "x_stacked.T"
   ]
  },
  {
   "cell_type": "markdown",
   "metadata": {},
   "source": [
    "What will happen below?"
   ]
  },
  {
   "cell_type": "code",
   "execution_count": 44,
   "metadata": {},
   "outputs": [
    {
     "ename": "ValueError",
     "evalue": "matmul: Input operand 1 has a mismatch in its core dimension 0, with gufunc signature (n?,k),(k,m?)->(n?,m?) (size 4 is different from 2)",
     "output_type": "error",
     "traceback": [
      "\u001b[0;31m---------------------------------------------------------------------------\u001b[0m",
      "\u001b[0;31mValueError\u001b[0m                                Traceback (most recent call last)",
      "\u001b[0;32m<ipython-input-44-2b644036c1ea>\u001b[0m in \u001b[0;36m<module>\u001b[0;34m\u001b[0m\n\u001b[0;32m----> 1\u001b[0;31m \u001b[0mx_stacked\u001b[0m \u001b[0;34m@\u001b[0m \u001b[0mz_stacked\u001b[0m\u001b[0;34m\u001b[0m\u001b[0;34m\u001b[0m\u001b[0m\n\u001b[0m",
      "\u001b[0;31mValueError\u001b[0m: matmul: Input operand 1 has a mismatch in its core dimension 0, with gufunc signature (n?,k),(k,m?)->(n?,m?) (size 4 is different from 2)"
     ]
    }
   ],
   "source": [
    "x_stacked @ z_stacked"
   ]
  },
  {
   "cell_type": "markdown",
   "metadata": {},
   "source": [
    "What about here?"
   ]
  },
  {
   "cell_type": "code",
   "execution_count": 46,
   "metadata": {},
   "outputs": [
    {
     "data": {
      "text/plain": [
       "array([[0.16822068, 0.16822068, 0.16822068, 0.16822068],\n",
       "       [0.16822068, 0.16822068, 0.16822068, 0.16822068],\n",
       "       [0.16822068, 0.16822068, 0.16822068, 0.16822068]])"
      ]
     },
     "execution_count": 46,
     "metadata": {},
     "output_type": "execute_result"
    }
   ],
   "source": [
    "x_stacked.T @ z_stacked"
   ]
  },
  {
   "cell_type": "markdown",
   "metadata": {},
   "source": [
    "And here?"
   ]
  },
  {
   "cell_type": "code",
   "execution_count": null,
   "metadata": {},
   "outputs": [],
   "source": [
    "x_stacked @ z_stacked.T"
   ]
  },
  {
   "cell_type": "markdown",
   "metadata": {},
   "source": [
    "## Section 7: Introduction to Pandas\n",
    "\n",
    "While Numpy is designed to do fast vectorized calculations with little dependency on external packages. But suppose you have (as in common in research) tabular data consisting of a mix of different types. Basic Numpy is not equipped to handle this in a nice user-friendly\n",
    "\n",
    "What you really want is a spreadsheet, but ideally one that can live inside Python and that also allows fast math as Numpy does.\n",
    "\n",
    "That, in essence, is what Pandas is -- a Python-text-command-driven version of Excel, but more flexible and powerful, with Numpy arrays undergirding the whole thing. \n",
    "\n",
    "Pandas introduces two core data structures -- the Pandas Series and the Pandas DataFrame -- that, while built on top of Numpy arrays, offer some extra functionality that arrays just don't have out of the box."
   ]
  },
  {
   "cell_type": "markdown",
   "metadata": {},
   "source": [
    "## Pandas DataFrames\n",
    "\n",
    "The DataFrame is the core dta analysis object of Pandas. It is very similar to the DataFrame in R. It's essentially a bunch of Series objects glued together into columns, all of which share a common set of indexes.  Unlike a 2D Numpy array, the dtypes of the constituent Series objects can all be different (but *within* a Series, the dtype must be uniform, since that's really a 1D array under the hood)."
   ]
  },
  {
   "cell_type": "code",
   "execution_count": null,
   "metadata": {},
   "outputs": [],
   "source": [
    "from pandas import DataFrame\n",
    "DataFrame?"
   ]
  },
  {
   "cell_type": "markdown",
   "metadata": {},
   "source": [
    "### Generating DataFrames\n",
    "\n",
    "A DataFrame can be generated directly from:\n",
    "\n",
    "* A dict of arrays/lists/Series/other dicts\n",
    "* A 2D array\n",
    "* The Numpy \"structured array\" we mentioned up top (beyond our scope)\n",
    "* A single Series (if you want a single-column DataFrame)\n",
    "* Another DataFrame\n",
    "* A file of data (e.g. a csv)\n",
    "\n",
    "Indexes are specified with the `index` keyword (these will label rows), and column labels with the `columns` keyword.\n",
    "\n",
    "Let's see how some of these work (it works very similarly to how Series are generated)..."
   ]
  },
  {
   "cell_type": "code",
   "execution_count": 47,
   "metadata": {},
   "outputs": [
    {
     "name": "stdout",
     "output_type": "stream",
     "text": [
      "   one  two\n",
      "a  1.0  1.0\n",
      "b  2.0  2.0\n",
      "c  3.0  3.0\n",
      "d  NaN  4.0\n",
      "\n",
      "This will be empty...\n",
      "\n",
      "Empty DataFrame\n",
      "Columns: [width, length]\n",
      "Index: []\n",
      "\n",
      "...but this will not be\n",
      "\n",
      "   two width\n",
      "a  1.0   NaN\n",
      "b  2.0   NaN\n",
      "c  3.0   NaN\n",
      "d  4.0   NaN\n",
      "\n",
      "...and neither will this\n",
      "\n",
      "   two width  one\n",
      "a  1.0   NaN  1.0\n",
      "b  2.0   NaN  2.0\n",
      "c  3.0   NaN  3.0\n",
      "d  4.0   NaN  NaN\n",
      "   one  two\n",
      "b  2.0  2.0\n",
      "d  NaN  4.0\n",
      "a  1.0  1.0\n",
      "\n",
      "and\n",
      "\n",
      "   two width  one\n",
      "b  2.0   NaN  2.0\n",
      "d  4.0   NaN  NaN\n",
      "a  1.0   NaN  1.0\n",
      "\n",
      "and\n",
      "\n",
      "  length width\n",
      "b    NaN   NaN\n",
      "d    NaN   NaN\n",
      "a    NaN   NaN\n"
     ]
    }
   ],
   "source": [
    "# From a dictionary of array-like stuff\n",
    "mydict = {'one': pd.Series([1., 2., 3.], index=['a', 'b', 'c']),\n",
    "          'two': pd.Series([1., 2., 3., 4.], index=['a', 'b', 'c', 'd'])}\n",
    "\n",
    "# The dictionary keys become columns.\n",
    "print(pd.DataFrame(mydict))\n",
    "\n",
    "# You can override this with the \"columns\" keyword, but watch out!  -- unless your specified columns overlap with the\n",
    "# keys, you will get an empty DataFrame\n",
    "print(\"\\nThis will be empty...\\n\")\n",
    "print(pd.DataFrame(mydict, columns=['width','length']))\n",
    "print(\"\\n...but this will not be\\n\")\n",
    "print(pd.DataFrame(mydict, columns=['two', 'width']))\n",
    "print(\"\\n...and neither will this\\n\")\n",
    "print(pd.DataFrame(mydict, columns=['two', 'width', 'one']))\n",
    "\n",
    "# Notice how the index & column behavior with NaN works analogously to what we saw for Series.\n",
    "\n",
    "# We can add an \"index\" keyword for the whole DataFrame, and that will supersede the individual Series ones,\n",
    "# with the same sort of NaN behavior\n",
    "\n",
    "print(pd.DataFrame(mydict, index=['b', 'd', 'a']))\n",
    "print(\"\\nand\\n\")\n",
    "print(pd.DataFrame(mydict, index=['b', 'd', 'a'], columns=['two', 'width', 'one']))\n",
    "\n",
    "print(\"\\nand\\n\")\n",
    "print(pd.DataFrame(mydict, index=['b', 'd', 'a'], columns=['length', 'width']))\n",
    "\n",
    "# Getting how this works?"
   ]
  },
  {
   "cell_type": "markdown",
   "metadata": {},
   "source": [
    "Most importantly, DataFrames can be generated by reading in CSV/Excel files. Here we read in a CSV of choice behavior data from [Tom et al. (2007)](https://www.ncbi.nlm.nih.gov/pubmed/17255512) [data available [here](https://openneuro.org/datasets/ds000005/versions/00001)]. Briefly, this dataset is comprised of the behavior gathered from 16 participants who completed a gambling task (three sessions each).\n"
   ]
  },
  {
   "cell_type": "code",
   "execution_count": 55,
   "metadata": {},
   "outputs": [
    {
     "data": {
      "text/html": [
       "<div>\n",
       "<style scoped>\n",
       "    .dataframe tbody tr th:only-of-type {\n",
       "        vertical-align: middle;\n",
       "    }\n",
       "\n",
       "    .dataframe tbody tr th {\n",
       "        vertical-align: top;\n",
       "    }\n",
       "\n",
       "    .dataframe thead th {\n",
       "        text-align: right;\n",
       "    }\n",
       "</style>\n",
       "<table border=\"1\" class=\"dataframe\">\n",
       "  <thead>\n",
       "    <tr style=\"text-align: right;\">\n",
       "      <th></th>\n",
       "      <th>Subject</th>\n",
       "      <th>Run</th>\n",
       "      <th>Gain</th>\n",
       "      <th>Loss</th>\n",
       "      <th>Choice</th>\n",
       "      <th>RT</th>\n",
       "    </tr>\n",
       "  </thead>\n",
       "  <tbody>\n",
       "    <tr>\n",
       "      <th>0</th>\n",
       "      <td>1</td>\n",
       "      <td>1</td>\n",
       "      <td>10</td>\n",
       "      <td>6</td>\n",
       "      <td>0.0</td>\n",
       "      <td>1.137</td>\n",
       "    </tr>\n",
       "    <tr>\n",
       "      <th>1</th>\n",
       "      <td>1</td>\n",
       "      <td>1</td>\n",
       "      <td>10</td>\n",
       "      <td>7</td>\n",
       "      <td>1.0</td>\n",
       "      <td>1.320</td>\n",
       "    </tr>\n",
       "    <tr>\n",
       "      <th>2</th>\n",
       "      <td>1</td>\n",
       "      <td>1</td>\n",
       "      <td>10</td>\n",
       "      <td>11</td>\n",
       "      <td>0.0</td>\n",
       "      <td>1.806</td>\n",
       "    </tr>\n",
       "    <tr>\n",
       "      <th>3</th>\n",
       "      <td>1</td>\n",
       "      <td>1</td>\n",
       "      <td>10</td>\n",
       "      <td>12</td>\n",
       "      <td>0.0</td>\n",
       "      <td>1.383</td>\n",
       "    </tr>\n",
       "    <tr>\n",
       "      <th>4</th>\n",
       "      <td>1</td>\n",
       "      <td>1</td>\n",
       "      <td>10</td>\n",
       "      <td>15</td>\n",
       "      <td>0.0</td>\n",
       "      <td>1.637</td>\n",
       "    </tr>\n",
       "  </tbody>\n",
       "</table>\n",
       "</div>"
      ],
      "text/plain": [
       "   Subject  Run  Gain  Loss  Choice     RT\n",
       "0        1    1    10     6     0.0  1.137\n",
       "1        1    1    10     7     1.0  1.320\n",
       "2        1    1    10    11     0.0  1.806\n",
       "3        1    1    10    12     0.0  1.383\n",
       "4        1    1    10    15     0.0  1.637"
      ]
     },
     "execution_count": 55,
     "metadata": {},
     "output_type": "execute_result"
    }
   ],
   "source": [
    "## Load data from CSV.\n",
    "data = pd.read_csv('gambles.csv')\n",
    "\n",
    "data.head(5)"
   ]
  },
  {
   "cell_type": "code",
   "execution_count": 5,
   "metadata": {},
   "outputs": [
    {
     "name": "stdout",
     "output_type": "stream",
     "text": [
      "(4096, 6)\n",
      "24576\n",
      "RangeIndex(start=0, stop=4096, step=1)\n",
      "Index(['Subject', 'Run', 'Gain', 'Loss', 'Choice', 'RT'], dtype='object')\n"
     ]
    }
   ],
   "source": [
    "print(data.shape)\n",
    "print(data.size)\n",
    "print(data.index)\n",
    "print(data.columns)"
   ]
  },
  {
   "cell_type": "markdown",
   "metadata": {},
   "source": [
    "DataFrames support all of the core operations that NumPy arrays do. However, DataFrames do so in an organized fashion for easy describing of data.  Try running each of the commands below (which work just as they do for Numpy arrays):\n",
    "\n",
    "```python\n",
    "data.round();\n",
    "data.sum();\n",
    "data.max();\n",
    "data.min();\n",
    "data.mean();\n",
    "data.std();\n",
    "data.median()\n",
    "\n",
    "```"
   ]
  },
  {
   "cell_type": "code",
   "execution_count": 9,
   "metadata": {},
   "outputs": [
    {
     "data": {
      "text/html": [
       "<div>\n",
       "<style scoped>\n",
       "    .dataframe tbody tr th:only-of-type {\n",
       "        vertical-align: middle;\n",
       "    }\n",
       "\n",
       "    .dataframe tbody tr th {\n",
       "        vertical-align: top;\n",
       "    }\n",
       "\n",
       "    .dataframe thead th {\n",
       "        text-align: right;\n",
       "    }\n",
       "</style>\n",
       "<table border=\"1\" class=\"dataframe\">\n",
       "  <thead>\n",
       "    <tr style=\"text-align: right;\">\n",
       "      <th></th>\n",
       "      <th>Subject</th>\n",
       "      <th>Run</th>\n",
       "      <th>Gain</th>\n",
       "      <th>Loss</th>\n",
       "      <th>Choice</th>\n",
       "      <th>RT</th>\n",
       "    </tr>\n",
       "  </thead>\n",
       "  <tbody>\n",
       "    <tr>\n",
       "      <th>count</th>\n",
       "      <td>4096.000000</td>\n",
       "      <td>4096.000000</td>\n",
       "      <td>4096.00000</td>\n",
       "      <td>4096.000000</td>\n",
       "      <td>3942.000000</td>\n",
       "      <td>3942.000000</td>\n",
       "    </tr>\n",
       "    <tr>\n",
       "      <th>mean</th>\n",
       "      <td>8.500000</td>\n",
       "      <td>1.996094</td>\n",
       "      <td>25.00000</td>\n",
       "      <td>12.500000</td>\n",
       "      <td>0.513952</td>\n",
       "      <td>1.446901</td>\n",
       "    </tr>\n",
       "    <tr>\n",
       "      <th>std</th>\n",
       "      <td>4.610335</td>\n",
       "      <td>0.817384</td>\n",
       "      <td>9.22067</td>\n",
       "      <td>4.610335</td>\n",
       "      <td>0.499869</td>\n",
       "      <td>0.498300</td>\n",
       "    </tr>\n",
       "    <tr>\n",
       "      <th>min</th>\n",
       "      <td>1.000000</td>\n",
       "      <td>1.000000</td>\n",
       "      <td>10.00000</td>\n",
       "      <td>5.000000</td>\n",
       "      <td>0.000000</td>\n",
       "      <td>0.001000</td>\n",
       "    </tr>\n",
       "    <tr>\n",
       "      <th>25%</th>\n",
       "      <td>4.750000</td>\n",
       "      <td>1.000000</td>\n",
       "      <td>17.50000</td>\n",
       "      <td>8.750000</td>\n",
       "      <td>0.000000</td>\n",
       "      <td>1.095250</td>\n",
       "    </tr>\n",
       "    <tr>\n",
       "      <th>50%</th>\n",
       "      <td>8.500000</td>\n",
       "      <td>2.000000</td>\n",
       "      <td>25.00000</td>\n",
       "      <td>12.500000</td>\n",
       "      <td>1.000000</td>\n",
       "      <td>1.352500</td>\n",
       "    </tr>\n",
       "    <tr>\n",
       "      <th>75%</th>\n",
       "      <td>12.250000</td>\n",
       "      <td>3.000000</td>\n",
       "      <td>32.50000</td>\n",
       "      <td>16.250000</td>\n",
       "      <td>1.000000</td>\n",
       "      <td>1.727000</td>\n",
       "    </tr>\n",
       "    <tr>\n",
       "      <th>max</th>\n",
       "      <td>16.000000</td>\n",
       "      <td>3.000000</td>\n",
       "      <td>40.00000</td>\n",
       "      <td>20.000000</td>\n",
       "      <td>1.000000</td>\n",
       "      <td>5.487000</td>\n",
       "    </tr>\n",
       "  </tbody>\n",
       "</table>\n",
       "</div>"
      ],
      "text/plain": [
       "           Subject          Run        Gain         Loss       Choice  \\\n",
       "count  4096.000000  4096.000000  4096.00000  4096.000000  3942.000000   \n",
       "mean      8.500000     1.996094    25.00000    12.500000     0.513952   \n",
       "std       4.610335     0.817384     9.22067     4.610335     0.499869   \n",
       "min       1.000000     1.000000    10.00000     5.000000     0.000000   \n",
       "25%       4.750000     1.000000    17.50000     8.750000     0.000000   \n",
       "50%       8.500000     2.000000    25.00000    12.500000     1.000000   \n",
       "75%      12.250000     3.000000    32.50000    16.250000     1.000000   \n",
       "max      16.000000     3.000000    40.00000    20.000000     1.000000   \n",
       "\n",
       "                RT  \n",
       "count  3942.000000  \n",
       "mean      1.446901  \n",
       "std       0.498300  \n",
       "min       0.001000  \n",
       "25%       1.095250  \n",
       "50%       1.352500  \n",
       "75%       1.727000  \n",
       "max       5.487000  "
      ]
     },
     "execution_count": 9,
     "metadata": {},
     "output_type": "execute_result"
    }
   ],
   "source": [
    "data.describe()"
   ]
  },
  {
   "cell_type": "code",
   "execution_count": 23,
   "metadata": {},
   "outputs": [
    {
     "data": {
      "text/html": [
       "<div>\n",
       "<style scoped>\n",
       "    .dataframe tbody tr th:only-of-type {\n",
       "        vertical-align: middle;\n",
       "    }\n",
       "\n",
       "    .dataframe tbody tr th {\n",
       "        vertical-align: top;\n",
       "    }\n",
       "\n",
       "    .dataframe thead th {\n",
       "        text-align: right;\n",
       "    }\n",
       "</style>\n",
       "<table border=\"1\" class=\"dataframe\">\n",
       "  <thead>\n",
       "    <tr style=\"text-align: right;\">\n",
       "      <th></th>\n",
       "      <th>Subject</th>\n",
       "      <th>Run</th>\n",
       "      <th>Gain</th>\n",
       "      <th>Loss</th>\n",
       "      <th>Choice</th>\n",
       "      <th>RT</th>\n",
       "      <th>Missing</th>\n",
       "    </tr>\n",
       "  </thead>\n",
       "  <tbody>\n",
       "    <tr>\n",
       "      <th>0</th>\n",
       "      <td>1</td>\n",
       "      <td>1</td>\n",
       "      <td>10</td>\n",
       "      <td>6</td>\n",
       "      <td>0.0</td>\n",
       "      <td>1.137</td>\n",
       "      <td>0</td>\n",
       "    </tr>\n",
       "    <tr>\n",
       "      <th>1</th>\n",
       "      <td>1</td>\n",
       "      <td>1</td>\n",
       "      <td>10</td>\n",
       "      <td>7</td>\n",
       "      <td>1.0</td>\n",
       "      <td>1.320</td>\n",
       "      <td>0</td>\n",
       "    </tr>\n",
       "    <tr>\n",
       "      <th>2</th>\n",
       "      <td>1</td>\n",
       "      <td>1</td>\n",
       "      <td>10</td>\n",
       "      <td>11</td>\n",
       "      <td>0.0</td>\n",
       "      <td>1.806</td>\n",
       "      <td>0</td>\n",
       "    </tr>\n",
       "    <tr>\n",
       "      <th>3</th>\n",
       "      <td>1</td>\n",
       "      <td>1</td>\n",
       "      <td>10</td>\n",
       "      <td>12</td>\n",
       "      <td>0.0</td>\n",
       "      <td>1.383</td>\n",
       "      <td>0</td>\n",
       "    </tr>\n",
       "    <tr>\n",
       "      <th>4</th>\n",
       "      <td>1</td>\n",
       "      <td>1</td>\n",
       "      <td>10</td>\n",
       "      <td>15</td>\n",
       "      <td>0.0</td>\n",
       "      <td>1.637</td>\n",
       "      <td>0</td>\n",
       "    </tr>\n",
       "  </tbody>\n",
       "</table>\n",
       "</div>"
      ],
      "text/plain": [
       "   Subject  Run  Gain  Loss  Choice     RT  Missing\n",
       "0        1    1    10     6     0.0  1.137        0\n",
       "1        1    1    10     7     1.0  1.320        0\n",
       "2        1    1    10    11     0.0  1.806        0\n",
       "3        1    1    10    12     0.0  1.383        0\n",
       "4        1    1    10    15     0.0  1.637        0"
      ]
     },
     "execution_count": 23,
     "metadata": {},
     "output_type": "execute_result"
    }
   ],
   "source": [
    "## Add column denoting rows with missing data.\n",
    "data['Missing'] = data.Choice.isnull().astype(int)\n",
    "\n",
    "data.head(5)"
   ]
  },
  {
   "cell_type": "markdown",
   "metadata": {},
   "source": [
    "Similarly, it is easy to drop rows with missing data."
   ]
  },
  {
   "cell_type": "code",
   "execution_count": 24,
   "metadata": {},
   "outputs": [
    {
     "name": "stdout",
     "output_type": "stream",
     "text": [
      "Original shape: (4096, 7)\n",
      "Original shape: (3942, 7)\n"
     ]
    }
   ],
   "source": [
    "## Check original shape.\n",
    "print(f'Original shape: {data.shape}')\n",
    "\n",
    "## Drop missing data.\n",
    "data = data.dropna()\n",
    "\n",
    "## Check new shape.\n",
    "print(f'Original shape: {data.shape}')"
   ]
  },
  {
   "cell_type": "markdown",
   "metadata": {},
   "source": [
    "Particular columns can also be dropped."
   ]
  },
  {
   "cell_type": "code",
   "execution_count": 25,
   "metadata": {},
   "outputs": [],
   "source": [
    "## Drop missing data column.\n",
    "data = data.drop(['Missing'], axis=1)"
   ]
  },
  {
   "cell_type": "markdown",
   "metadata": {},
   "source": [
    "DataFrames are easily converted back to NumPy arrays and dictionaries."
   ]
  },
  {
   "cell_type": "code",
   "execution_count": 26,
   "metadata": {},
   "outputs": [],
   "source": [
    "## To NumPy array.\n",
    "arr = data.values\n",
    "\n",
    "## To dictionary.\n",
    "dd = data.to_dict()"
   ]
  },
  {
   "cell_type": "markdown",
   "metadata": {},
   "source": [
    "DataFrames can also be easily written to file."
   ]
  },
  {
   "cell_type": "code",
   "execution_count": null,
   "metadata": {},
   "outputs": [],
   "source": [
    "data.to_csv?"
   ]
  },
  {
   "cell_type": "markdown",
   "metadata": {},
   "source": [
    "## Section 8: Visualization w/ Matplotlib and Seaborn"
   ]
  },
  {
   "cell_type": "code",
   "execution_count": 62,
   "metadata": {},
   "outputs": [],
   "source": [
    "import matplotlib.pyplot as plt\n",
    "%matplotlib inline \n",
    "\n",
    "## NOTE: The second line is a bit of notebook magic! \n",
    "## It's a jupyter-notebook shortcut that makes all\n",
    "## plots be displayed at the bottom of a cell."
   ]
  },
  {
   "cell_type": "markdown",
   "metadata": {},
   "source": [
    "### Basic Example\n",
    "Lineplots are the most intuitive Matplotlib plot, requiring at the minimum only the x- and y-datapoints. Many embellishments can be added. "
   ]
  },
  {
   "cell_type": "code",
   "execution_count": 63,
   "metadata": {},
   "outputs": [
    {
     "data": {
      "image/png": "[encoded data removed]",
      "text/plain": [
       "<Figure size 864x288 with 1 Axes>"
      ]
     },
     "metadata": {
      "needs_background": "light"
     },
     "output_type": "display_data"
    }
   ],
   "source": [
    "## Initialize canvas.\n",
    "fig, ax = plt.subplots(1,1,figsize=(12,4))\n",
    "\n",
    "## Define sigmoid function.\n",
    "def inv_logit(arr):\n",
    "    return 1. / (1 + np.exp(-arr))\n",
    "\n",
    "## Simulate data.\n",
    "x = np.linspace(-5,5,101)\n",
    "\n",
    "## Plot lines.\n",
    "for b in [0.5,1.0,2.0]:\n",
    "    ax.plot(x, inv_logit(x * b), lw=2.5, label=r'$y = logit^{-1}( \\ %0.1f \\cdot x \\ )$' %b)\n",
    "\n",
    "## Add details.\n",
    "ax.set(xlim=(x.min(), x.max()), xlabel='X', ylim=(0), ylabel='Y', title='Example Lineplot')\n",
    "ax.legend(loc=2, frameon=False, fontsize=14)\n",
    "\n",
    "plt.tight_layout()"
   ]
  },
  {
   "cell_type": "code",
   "execution_count": null,
   "metadata": {},
   "outputs": [],
   "source": [
    "## Section 7: Visualization w/ Matplotlib\n",
    "\n",
    "import matplotlib.pyplot as plt\n",
    "%matplotlib inline \n",
    "\n",
    "## NOTE: The second line is a bit of notebook magic! \n",
    "## It's a jupyter-notebook shortcut that makes all\n",
    "## plots be displayed at the bottom of a cell.\n",
    "\n",
    "### Basic Example\n",
    "Lineplots are the most intuitive Matplotlib plot, requiring at the minimum only the x- and y-datapoints. Many embellishments can be added. \n",
    "\n",
    "## Initialize canvas.\n",
    "fig, ax = plt.subplots(1,1,figsize=(12,4))\n",
    "\n",
    "## Define sigmoid function.\n",
    "def inv_logit(arr):\n",
    "    return 1. / (1 + np.exp(-arr))\n",
    "\n",
    "## Simulate data.\n",
    "x = np.linspace(-5,5,101)\n",
    "\n",
    "## Plot lines.\n",
    "for b in [0.5,1.0,2.0]:\n",
    "    ax.plot(x, inv_logit(x * b), lw=2.5, label=r'$y = logit^{-1}( \\ %0.1f \\cdot x \\ )$' %b)\n",
    "\n",
    "## Add details.\n",
    "ax.set(xlim=(x.min(), x.max()), xlabel='X', ylim=(0), ylabel='Y', title='Example Lineplot')\n",
    "ax.legend(loc=2, frameon=False, fontsize=14)\n",
    "\n",
    "plt.tight_layout()"
   ]
  },
  {
   "cell_type": "markdown",
   "metadata": {},
   "source": [
    "The Seaborn statistical data visualization library was created to be the equivalent of ggplot2 for python. In other words, it is designed to rapidly turn around publication-ready plots from Pandas DataFrames with as minimal code as necessary. The [documention](https://seaborn.pydata.org/) is full of great examples that should be checked out. We will go through a few examples here."
   ]
  },
  {
   "cell_type": "code",
   "execution_count": null,
   "metadata": {},
   "outputs": [],
   "source": [
    "import seaborn as sns"
   ]
  },
  {
   "cell_type": "markdown",
   "metadata": {},
   "source": [
    "### Style and Context\n",
    "One of the great things about Seaborn is setting defaults. The defaults set a variety of parameters (e.g. colors, fonts, font sizes, etc.) that result in little tweaking of figures down the line. We introduce those two functions here."
   ]
  },
  {
   "cell_type": "code",
   "execution_count": 43,
   "metadata": {},
   "outputs": [
    {
     "data": {
      "image/png": "[encoded data removed]",
      "text/plain": [
       "<Figure size 576x288 with 1 Axes>"
      ]
     },
     "metadata": {},
     "output_type": "display_data"
    }
   ],
   "source": [
    "## set_style sets the aesthetic style of the plots. This most dramatically \n",
    "## affects the background of plots and the presence (or absence) of gridlines.\n",
    "sns.set_style('white')      # {white, whitegrid, dark, darkgrid}\n",
    "\n",
    "## set_context sets the context parameters, affecting the size of labels,\n",
    "## lines, and other elements of the plot.\n",
    "sns.set_context('notebook', font_scale=1.5) # {notebook, paper, talk, poster}\n",
    "\n",
    "## Text plot.\n",
    "fig = plt.figure(figsize=(8,4))\n",
    "plt.plot(np.arange(10), np.arange(10));\n",
    "\n",
    "sns.despine()"
   ]
  },
  {
   "cell_type": "markdown",
   "metadata": {},
   "source": [
    "### Barplots\n",
    "Let's first start by recreating the barplot from earlier (i.e. average response within subjects). As can be seen, substantially fewer lines of code are necessary. Moreover, 95% CIs are computed via bootstrap resampling."
   ]
  },
  {
   "cell_type": "code",
   "execution_count": 44,
   "metadata": {},
   "outputs": [
    {
     "data": {
      "image/png": "[encoded data removed]",
      "text/plain": [
       "<Figure size 864x288 with 1 Axes>"
      ]
     },
     "metadata": {},
     "output_type": "display_data"
    }
   ],
   "source": [
    "## Initialize figure.\n",
    "fig, ax = plt.subplots(1,1,figsize=(12,4))\n",
    "\n",
    "## Plot barplot.\n",
    "sns.barplot('Subject', 'Choice', data=data, color='#377eb8', ax=ax)\n",
    "\n",
    "sns.despine()\n",
    "plt.tight_layout()"
   ]
  },
  {
   "cell_type": "markdown",
   "metadata": {},
   "source": [
    "### Pointplots / Lineplots"
   ]
  },
  {
   "cell_type": "code",
   "execution_count": 45,
   "metadata": {},
   "outputs": [
    {
     "data": {
      "image/png": "[encoded data removed]",
      "text/plain": [
       "<Figure size 864x288 with 1 Axes>"
      ]
     },
     "metadata": {},
     "output_type": "display_data"
    }
   ],
   "source": [
    "## Initialize figure.\n",
    "fig, ax = plt.subplots(1,1,figsize=(12,4))\n",
    "\n",
    "## GroupBy subject/gain.\n",
    "gb = data.groupby(['Subject','Gain']).Choice.mean().reset_index()\n",
    "\n",
    "## Plot pointplot.\n",
    "sns.pointplot('Gain', 'Choice', data=gb, ax=ax)\n",
    "\n",
    "sns.despine()\n",
    "plt.tight_layout()"
   ]
  },
  {
   "cell_type": "code",
   "execution_count": 46,
   "metadata": {},
   "outputs": [
    {
     "data": {
      "image/png": "[encoded data removed]",
      "text/plain": [
       "<Figure size 864x288 with 1 Axes>"
      ]
     },
     "metadata": {},
     "output_type": "display_data"
    }
   ],
   "source": [
    "## Initialize figure.\n",
    "fig, ax = plt.subplots(1,1,figsize=(12,4))\n",
    "\n",
    "## GroupBy subject/gain.\n",
    "gb = data.groupby(['Subject','Gain']).Choice.mean().reset_index()\n",
    "\n",
    "## Plot regression.\n",
    "sns.regplot('Gain', 'Choice', data=gb, ax=ax)\n",
    "\n",
    "sns.despine()\n",
    "plt.tight_layout()"
   ]
  },
  {
   "cell_type": "markdown",
   "metadata": {},
   "source": [
    "### Distribution Plots"
   ]
  },
  {
   "cell_type": "code",
   "execution_count": 47,
   "metadata": {},
   "outputs": [
    {
     "data": {
      "image/png": "[encoded data removed]",
      "text/plain": [
       "<Figure size 576x288 with 1 Axes>"
      ]
     },
     "metadata": {},
     "output_type": "display_data"
    }
   ],
   "source": [
    "## Initialize figure.\n",
    "fig, ax = plt.subplots(1,1,figsize=(8,4))\n",
    "\n",
    "## Plot distribution.\n",
    "sns.distplot(data.RT, ax=ax)\n",
    "\n",
    "sns.despine()\n",
    "plt.tight_layout()"
   ]
  },
  {
   "cell_type": "markdown",
   "metadata": {},
   "source": [
    "### Heatmaps"
   ]
  },
  {
   "cell_type": "code",
   "execution_count": 51,
   "metadata": {},
   "outputs": [
    {
     "data": {
      "image/png": "[encoded data removed]",
      "text/plain": [
       "<Figure size 864x288 with 2 Axes>"
      ]
     },
     "metadata": {},
     "output_type": "display_data"
    }
   ],
   "source": [
    "## Initialize figure.\n",
    "fig, ax = plt.subplots(1,1,figsize=(12,4))\n",
    "\n",
    "## Compute pivot table.\n",
    "table = data.pivot_table(index='Gain', columns='Loss', values='Choice')\n",
    "\n",
    "## Plot heatmap.\n",
    "sns.heatmap(table.T, vmin=0, vmax=1, center=0.5, ax=ax)\n",
    "ax.invert_yaxis()"
   ]
  },
  {
   "cell_type": "markdown",
   "metadata": {},
   "source": [
    "### FacetGrid"
   ]
  },
  {
   "cell_type": "code",
   "execution_count": 52,
   "metadata": {},
   "outputs": [
    {
     "data": {
      "image/png": "[encoded data removed]",
      "text/plain": [
       "<Figure size 864x864 with 16 Axes>"
      ]
     },
     "metadata": {},
     "output_type": "display_data"
    }
   ],
   "source": [
    "## Initialize canvas.\n",
    "g = sns.FacetGrid(data, col='Subject', col_wrap=4, sharex=True, sharey=False)\n",
    "\n",
    "## Plot histograms.\n",
    "g.map(sns.distplot, 'RT', bins=np.linspace(0,3,25), kde=False);"
   ]
  },
  {
   "cell_type": "markdown",
   "metadata": {},
   "source": [
    "# Section 3: Introduction to Statistics (SciPy + Statsmodels)\n",
    "\n",
    "## SciPy Statistics Module\n",
    "SciPy introduces a series of special modules for different computations, including: integration, optimization, signal and image processing, and statistics. The [SciPy documentation](https://docs.scipy.org/doc/scipy/reference/) details the many powerful tools the package introduces.\n",
    "\n",
    "The [SciPy stats module](https://docs.scipy.org/doc/scipy/reference/tutorial/stats.html) (scipy.stats) introduces a number of helpful functions, including:\n",
    "* Statistical distributions (e.g. normal, student-t, inv-normal, gamma, beta, binomal..., [full list](https://docs.scipy.org/doc/scipy/reference/stats.html))\n",
    "* Measures of distributional shape (e.g. kurtosis, skew, QQ-plots, KS-test)\n",
    "* Basic statistical tests (e.g. linear correlation, nonparametric correlation, t-tests, one-way ANOVA, Chi-Square)\n",
    "\n",
    "The SciPy package can be especially helpful when the user needs to compute quick statistics without necessarily needing to implement even simple models. \n"
   ]
  },
  {
   "cell_type": "markdown",
   "metadata": {},
   "source": [
    "### Basic Statistics\n",
    "SciPy also has implemented several basic statistical functions for quickly computing statistics:\n",
    "* Correlations: Pearson correlation (``pearsonr``), Spearman correlation (``spearmanr``), Kendall Tau (``kendalltau``)\n",
    "* T-tests: one-sample t-test (``ttest_1samp``), two-sample t-test (``ttest_ind``), dependent sample t-test (``ttest_rel``)\n",
    "* ANOVA: One-way ANOVA (``f_oneway``)\n",
    "* Chi-square (``chisquare``, ``chi2_contingency``)\n",
    "\n",
    "We will quickly highlight a few of these functions."
   ]
  },
  {
   "cell_type": "code",
   "execution_count": 53,
   "metadata": {},
   "outputs": [
    {
     "name": "stdout",
     "output_type": "stream",
     "text": [
      "Pearson: r = 0.461, p = 0.001\n",
      "Independent t-test: t = -8.558, p = 0.000\n"
     ]
    }
   ],
   "source": [
    "from scipy.stats import pearsonr, ttest_ind\n",
    "np.random.seed(47404)\n",
    "\n",
    "## Simulate data from multivariate normal distribution.\n",
    "## The two variables will be of different mean and r=0.4 correlated.\n",
    "\n",
    "## Define means / covariances.\n",
    "mu = [0,2]\n",
    "cov = [[1.0, 0.4],\n",
    "       [0.4, 1.0]]\n",
    "\n",
    "## Randomly sample 50 observations.\n",
    "x, y = np.random.multivariate_normal(mu, cov, 50).T\n",
    "\n",
    "## Compute correlation of pairs: (1,2), (1,3)\n",
    "print('Pearson: r = %0.3f, p = %0.3f' %pearsonr(x, y))\n",
    "\n",
    "## Compute independent t-tests\n",
    "print('Independent t-test: t = %0.3f, p = %0.3f' %ttest_ind(x, y))"
   ]
  },
  {
   "cell_type": "markdown",
   "metadata": {},
   "source": [
    "## Statsmodels\n",
    "Statsmodels is the prominent statistical models package in the scientific python distribution. Statsmodels provides functionality for linear regression, generalized linear models, limited dependent variable models, ARMA and VAR models. The [Statsmodels documentation](http://www.statsmodels.org/stable/index.html) provides a full list of models and functions implemented. It draws its inspiration from the most popular R statistics packages (e.g. lme4) and uses the same statistical modeling syntax as R (e.g. \"y ~ x\"). As we will see, the package is still new and relatively limited as of the time of writing. Though the most basic models are implemented, more complex yet standard models (e.g. mixed-effects logistic regression) are not yet implemented. \n",
    "\n",
    "\n",
    "If you are familiar with R-styled formulas for regression, then Statsmodels + Pandas is a very powerful combo of packages for data analysis in python. We will cover only a few select examples, but know that many models are already implemented (e.g. OLS, GLM, GEE, WLS). Many more well-documented tutorials can be found [here](http://www.statsmodels.org/stable/examples/index.html#notebook-examples) and [here](https://github.com/statsmodels/statsmodels/wiki/Examples). \n",
    "\n",
    "### Linear Regression (OLS)\n",
    "Below is a basic ordinary least squares (OLS) linear regression model measuring the relationship of subjective likelihood-of-take (respnum) against gain and loss."
   ]
  },
  {
   "cell_type": "code",
   "execution_count": 54,
   "metadata": {},
   "outputs": [
    {
     "data": {
      "text/html": [
       "<table class=\"simpletable\">\n",
       "<tr>\n",
       "        <td>Model:</td>               <td>OLS</td>         <td>Adj. R-squared:</td>     <td>0.002</td>  \n",
       "</tr>\n",
       "<tr>\n",
       "  <td>Dependent Variable:</td>        <td>RT</td>               <td>AIC:</td>         <td>5690.9105</td>\n",
       "</tr>\n",
       "<tr>\n",
       "         <td>Date:</td>        <td>2019-08-20 22:03</td>        <td>BIC:</td>         <td>5709.7488</td>\n",
       "</tr>\n",
       "<tr>\n",
       "   <td>No. Observations:</td>        <td>3942</td>         <td>Log-Likelihood:</td>    <td>-2842.5</td> \n",
       "</tr>\n",
       "<tr>\n",
       "       <td>Df Model:</td>              <td>2</td>           <td>F-statistic:</td>       <td>4.694</td>  \n",
       "</tr>\n",
       "<tr>\n",
       "     <td>Df Residuals:</td>          <td>3939</td>       <td>Prob (F-statistic):</td>  <td>0.00920</td> \n",
       "</tr>\n",
       "<tr>\n",
       "      <td>R-squared:</td>            <td>0.002</td>            <td>Scale:</td>         <td>0.24784</td> \n",
       "</tr>\n",
       "</table>\n",
       "<table class=\"simpletable\">\n",
       "<tr>\n",
       "      <td></td>       <th>Coef.</th> <th>Std.Err.</th>    <th>t</th>     <th>P>|t|</th> <th>[0.025</th>  <th>0.975]</th>\n",
       "</tr>\n",
       "<tr>\n",
       "  <th>Intercept</th> <td>1.3695</td>  <td>0.0314</td>  <td>43.5673</td> <td>0.0000</td> <td>1.3078</td>  <td>1.4311</td>\n",
       "</tr>\n",
       "<tr>\n",
       "  <th>Gain</th>      <td>0.0005</td>  <td>0.0009</td>  <td>0.6019</td>  <td>0.5473</td> <td>-0.0012</td> <td>0.0022</td>\n",
       "</tr>\n",
       "<tr>\n",
       "  <th>Loss</th>      <td>0.0052</td>  <td>0.0017</td>  <td>3.0082</td>  <td>0.0026</td> <td>0.0018</td>  <td>0.0085</td>\n",
       "</tr>\n",
       "</table>\n",
       "<table class=\"simpletable\">\n",
       "<tr>\n",
       "     <td>Omnibus:</td>    <td>457.221</td>  <td>Durbin-Watson:</td>    <td>1.418</td> \n",
       "</tr>\n",
       "<tr>\n",
       "  <td>Prob(Omnibus):</td>  <td>0.000</td>  <td>Jarque-Bera (JB):</td> <td>848.861</td>\n",
       "</tr>\n",
       "<tr>\n",
       "       <td>Skew:</td>      <td>0.760</td>      <td>Prob(JB):</td>      <td>0.000</td> \n",
       "</tr>\n",
       "<tr>\n",
       "     <td>Kurtosis:</td>    <td>4.691</td>   <td>Condition No.:</td>     <td>116</td>  \n",
       "</tr>\n",
       "</table>"
      ],
      "text/plain": [
       "<class 'statsmodels.iolib.summary2.Summary'>\n",
       "\"\"\"\n",
       "                 Results: Ordinary least squares\n",
       "==================================================================\n",
       "Model:              OLS              Adj. R-squared:     0.002    \n",
       "Dependent Variable: RT               AIC:                5690.9105\n",
       "Date:               2019-08-20 22:03 BIC:                5709.7488\n",
       "No. Observations:   3942             Log-Likelihood:     -2842.5  \n",
       "Df Model:           2                F-statistic:        4.694    \n",
       "Df Residuals:       3939             Prob (F-statistic): 0.00920  \n",
       "R-squared:          0.002            Scale:              0.24784  \n",
       "--------------------------------------------------------------------\n",
       "             Coef.    Std.Err.      t      P>|t|     [0.025   0.975]\n",
       "--------------------------------------------------------------------\n",
       "Intercept    1.3695     0.0314   43.5673   0.0000    1.3078   1.4311\n",
       "Gain         0.0005     0.0009    0.6019   0.5473   -0.0012   0.0022\n",
       "Loss         0.0052     0.0017    3.0082   0.0026    0.0018   0.0085\n",
       "------------------------------------------------------------------\n",
       "Omnibus:             457.221       Durbin-Watson:          1.418  \n",
       "Prob(Omnibus):       0.000         Jarque-Bera (JB):       848.861\n",
       "Skew:                0.760         Prob(JB):               0.000  \n",
       "Kurtosis:            4.691         Condition No.:          116    \n",
       "==================================================================\n",
       "\n",
       "\"\"\""
      ]
     },
     "execution_count": 54,
     "metadata": {},
     "output_type": "execute_result"
    }
   ],
   "source": [
    "from statsmodels.api import OLS\n",
    "\n",
    "## Define formula.\n",
    "formula = 'RT ~ Gain + Loss'\n",
    "\n",
    "## Define model.\n",
    "model = OLS.from_formula(formula, data=data)\n",
    "\n",
    "## Fit model.\n",
    "result = model.fit()\n",
    "\n",
    "## Print summary.\n",
    "result.summary2()"
   ]
  },
  {
   "cell_type": "code",
   "execution_count": null,
   "metadata": {},
   "outputs": [],
   "source": []
  }
 ],
 "metadata": {
  "kernelspec": {
   "display_name": "Python 3",
   "language": "python",
   "name": "python3"
  },
  "language_info": {
   "codemirror_mode": {
    "name": "ipython",
    "version": 3
   },
   "file_extension": ".py",
   "mimetype": "text/x-python",
   "name": "python",
   "nbconvert_exporter": "python",
   "pygments_lexer": "ipython3",
   "version": "3.6.12"
  }
 },
 "nbformat": 4,
 "nbformat_minor": 5
}
