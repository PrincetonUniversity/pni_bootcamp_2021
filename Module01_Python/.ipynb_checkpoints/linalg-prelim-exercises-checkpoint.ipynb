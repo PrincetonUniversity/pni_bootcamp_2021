{
 "cells": [
  {
   "cell_type": "markdown",
   "metadata": {},
   "source": [
    "# Preliminary Linear Algebra\n",
    "\n",
    "This notebook closely follows the exposition/notation in Eero Simoncelli's [Linear Algebra notes](https://www.cns.nyu.edu/~eero/NOTES/geomLinAlg.pdf)."
   ]
  },
  {
   "cell_type": "code",
   "execution_count": 73,
   "metadata": {},
   "outputs": [],
   "source": [
    "import numpy as np\n",
    "import matplotlib.pyplot as plt\n",
    "%matplotlib inline"
   ]
  },
  {
   "cell_type": "markdown",
   "metadata": {},
   "source": [
    "## Q1. Implement the norm of a vector.\n",
    "\n",
    "From the notes, this is defined as: $\\| \\overrightarrow{v} \\| = \\sqrt{\\sum_n v^2_n}$. For a first pass, you might try looping over the entries of the vector. Another way to solve this can use [np.dot()](https://numpy.org/doc/stable/reference/generated/numpy.dot.html)."
   ]
  },
  {
   "cell_type": "code",
   "execution_count": 81,
   "metadata": {},
   "outputs": [],
   "source": [
    "def norm(vector):\n",
    "    # SOLUTION\n",
    "    return np.sqrt(vector @ vector)\n",
    "    # SOLUTION 2\n",
    "    n = 0\n",
    "    for i in range(len(vector)):\n",
    "        n += vector[i]**2\n",
    "    return n ** 0.5\n",
    "\n",
    "# Here's a test case so you can check your code!\n",
    "v = np.array([2, 3])\n",
    "assert np.isclose(norm(v), 3.60555127)"
   ]
  },
  {
   "cell_type": "markdown",
   "metadata": {},
   "source": [
    "## Q2. Implement vector projection.\n",
    "\n",
    "We'll do this by replicating the figure at the top of Page 4 of our linear algebra guide. That means we'll make the projection of $v$ onto $u$, as well as the residual vector. Can you verify that the residual vector is orthogonal to the unit vector $u$?"
   ]
  },
  {
   "cell_type": "code",
   "execution_count": 78,
   "metadata": {},
   "outputs": [
    {
     "name": "stdout",
     "output_type": "stream",
     "text": [
      "dot product of residual and u (will be 0 or very close since they are orthogonal): 1.6653345369377348e-16\n"
     ]
    },
    {
     "data": {
      "text/plain": [
       "<matplotlib.legend.Legend at 0x128d9c160>"
      ]
     },
     "execution_count": 78,
     "metadata": {},
     "output_type": "execute_result"
    },
    {
     "data": {
      "image/png": "[encoded data removed]",
      "text/plain": [
       "<Figure size 432x288 with 1 Axes>"
      ]
     },
     "metadata": {
      "needs_background": "light"
     },
     "output_type": "display_data"
    }
   ],
   "source": [
    "def plot_vector(vector, start=np.array([0, 0]), color='k', **kwargs):\n",
    "    # This little function is a light wrapper over a matplotlib\n",
    "    # function for drawing arrows. See docs for more options.\n",
    "    # https://matplotlib.org/stable/api/_as_gen/matplotlib.pyplot.arrow.html#matplotlib.pyplot.arrow\n",
    "    plt.arrow(\n",
    "        start[0], start[1], vector[0], vector[1],\n",
    "        head_width=.05, color=color, length_includes_head=True,\n",
    "        **kwargs)\n",
    "\n",
    "# This is handy since it makes right angles easier to see.\n",
    "plt.axis('equal')\n",
    "\n",
    "u = np.array([1, .3])\n",
    "u = u / norm(u)\n",
    "plot_vector(u, color='red', label='projected onto')\n",
    "\n",
    "v = np.array([1, 1.2])\n",
    "plot_vector(v, color='green', label='original')\n",
    "\n",
    "## SOLUTION CODE START\n",
    "projected = u@v * u\n",
    "plot_vector(projected, color='blue', label='projected')\n",
    "\n",
    "residual = v - projected\n",
    "plot_vector(residual, start=projected, color='purple', label='residual')\n",
    "\n",
    "print('dot product of residual and u (will be 0 or very close since they are orthogonal):', residual@u)\n",
    "## SOLUTION CODE END\n",
    "\n",
    "plt.legend()"
   ]
  },
  {
   "cell_type": "markdown",
   "metadata": {},
   "source": [
    "## Q3. Implement matrix multiplication."
   ]
  },
  {
   "cell_type": "code",
   "execution_count": 80,
   "metadata": {},
   "outputs": [],
   "source": [
    "def mat_vec_mul(M, v):\n",
    "    # SOLUTION\n",
    "    w = np.zeros(M.shape[0])\n",
    "    for i in range(M.shape[0]):\n",
    "        for j in range(M.shape[1]):\n",
    "            w[i] = w[i] + M[i,j]*v[j]\n",
    "    return w\n",
    "    # SOLUTION 2\n",
    "    w = np.zeros(M.shape[0])\n",
    "    for i in range(M.shape[0]):\n",
    "        w[i] = M[i].dot(v)\n",
    "    return w\n",
    "\n",
    "M = np.array([\n",
    "    [3, 4, 5, 6],\n",
    "    [1, 0, 7, 8],\n",
    "    [2, 3, -1, -2],\n",
    "])\n",
    "v = np.array([2, 3, -1, -3])\n",
    "\n",
    "# Here's a test case so you can check your code!\n",
    "assert np.all(mat_vec_mul(M, v) == np.matmul(M, v))"
   ]
  },
  {
   "cell_type": "markdown",
   "metadata": {},
   "source": [
    "## 4. Finding an orthogonal vector\n",
    "\n",
    "Can you find a vector that's orthogonal to $[1.25, 1.75]$?"
   ]
  },
  {
   "cell_type": "code",
   "execution_count": 70,
   "metadata": {},
   "outputs": [],
   "source": [
    "v = np.array([1.25, 1.75])\n",
    "\n",
    "# SOLUTION START\n",
    "orthogonal_vector = np.array([1.75, -1.25])\n",
    "# SOLUTION END\n",
    "\n",
    "assert np.isclose(v@orthogonal_vector, 0)"
   ]
  },
  {
   "cell_type": "code",
   "execution_count": null,
   "metadata": {},
   "outputs": [],
   "source": []
  }
 ],
 "metadata": {
  "kernelspec": {
   "display_name": "Python 3",
   "language": "python",
   "name": "python3"
  },
  "language_info": {
   "codemirror_mode": {
    "name": "ipython",
    "version": 3
   },
   "file_extension": ".py",
   "mimetype": "text/x-python",
   "name": "python",
   "nbconvert_exporter": "python",
   "pygments_lexer": "ipython3",
   "version": "3.6.12"
  }
 },
 "nbformat": 4,
 "nbformat_minor": 4
}
